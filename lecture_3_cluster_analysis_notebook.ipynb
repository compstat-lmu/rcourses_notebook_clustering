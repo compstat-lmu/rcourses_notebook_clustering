{
 "cells": [
  {
   "cell_type": "markdown",
   "metadata": {},
   "source": [
    "# Data Science Projet - Cluster Analysis"
   ]
  },
  {
   "cell_type": "code",
   "execution_count": null,
   "metadata": {},
   "outputs": [],
   "source": [
    "library(dplyr)\n",
    "library(GGally)\n",
    "library(dbscan)"
   ]
  },
  {
   "cell_type": "code",
   "execution_count": null,
   "metadata": {},
   "outputs": [],
   "source": [
    "insurance = na.omit(read.csv(\"data/insurance_final.csv\"))"
   ]
  },
  {
   "cell_type": "markdown",
   "metadata": {},
   "source": [
    "## Business Question\n",
    "\n",
    "Your boss wants to adjust the current insurance premium system, which simply depends on the age of the policy holder.\n",
    "He asks you to search for insurance groups within the data who differ regarding the amount of `charges`.\n",
    "However, he feels that looking at the customers' `age` in combination with their amount of `charges` might be a good starting point for the cluster analysis.\n",
    "\n",
    "\n",
    "## EDA\n",
    "\n",
    "Hence as a first step, we look at the pairs plot of both variables."
   ]
  },
  {
   "cell_type": "code",
   "execution_count": null,
   "metadata": {},
   "outputs": [],
   "source": [
    "ggpairs(insurance[, c(\"age\", \"charges\")]) + theme_bw()"
   ]
  },
  {
   "cell_type": "markdown",
   "metadata": {},
   "source": [
    "The plot indicates 3 different groups within the data, based on low, medium and high charges.\n",
    "Moreover, both groups indicate an increasing number of charges with higher age.\n",
    "\n",
    "## DBSCAN\n",
    "\n",
    "After finding a suitable combination for the `eps` and `minPts` parameters, DBScan offers the best results.\n",
    "We get the following output:"
   ]
  },
  {
   "cell_type": "code",
   "execution_count": null,
   "metadata": {},
   "outputs": [],
   "source": [
    "db1 = dbscan(as.data.frame(scale(insurance[, c(\"age\", \"charges\")])), eps = .4, minPts = 20)\n",
    "db1"
   ]
  },
  {
   "cell_type": "markdown",
   "metadata": {},
   "source": [
    "Let's have a look at the resulting scatterplot:"
   ]
  },
  {
   "cell_type": "code",
   "execution_count": null,
   "metadata": {},
   "outputs": [],
   "source": [
    "insurance$db_cluster = as.factor(db1$cluster)\n",
    "ggplot(insurance, aes(age, charges, col = db_cluster)) +\n",
    " \tgeom_point() +  theme_bw() + guides(col = guide_legend(title = \"Cluster\")) +\n",
    " \tscale_color_hue(labels = c(\"Noise\", \"1\", \"2\", \"3\"))"
   ]
  },
  {
   "cell_type": "markdown",
   "metadata": {},
   "source": [
    "## Exploring the final Clusters\n",
    "\n",
    "### Smokers in each cluster\n",
    "As a last step, we should explore our final clusters with some demographic variables from the original data.\n",
    "We start with plotting the amount of smokers within each cluster:"
   ]
  },
  {
   "cell_type": "code",
   "execution_count": null,
   "metadata": {},
   "outputs": [],
   "source": [
    "ggplot(insurance) + geom_bar(aes(db_cluster, fill = smoker)) +\n",
    "\ttheme_bw() + guides(fill = guide_legend(title = \"Smoker\")) +\n",
    "\txlab(\"\") + ylab(\"Count\") +\n",
    "  scale_x_discrete(labels=c(\"0\" = \"Noise\", \"1\" = \"Cluster 1\", \"2\" = \"Cluster 2\", \"3\" = \"Cluster 3\"))"
   ]
  },
  {
   "cell_type": "markdown",
   "metadata": {},
   "source": [
    "While cluster 1, which is the low-charges-cluster, only contains non-smokers, cluster 3 contains only smokers.\n",
    "The medium-charges-cluster 2 contains smokers and non-smokers.  \n",
    "\n",
    "### BMI Distribution within the Clusters\n",
    "When plotting boxplots of the BMI for each cluster, we can see, that the people in the second cluster have a lower BMI than the people in the other groups."
   ]
  },
  {
   "cell_type": "code",
   "execution_count": null,
   "metadata": {},
   "outputs": [],
   "source": [
    "ggplot(insurance) + geom_boxplot(aes(x = db_cluster, y = bmi, fill = db_cluster)) +\n",
    "\ttheme_bw() + guides(fill = guide_legend(title = \"Cluster\")) +\n",
    "\ttheme(axis.text.y = element_blank(), axis.ticks = element_blank()) +\n",
    "\txlab(\"\") + ylab(\"BMI\") + coord_flip() +\n",
    "  scale_fill_hue(labels = c(\"Noise\", \"1\", \"2\", \"3\"))"
   ]
  }
 ],
 "metadata": {},
 "nbformat": 4,
 "nbformat_minor": 2
}
